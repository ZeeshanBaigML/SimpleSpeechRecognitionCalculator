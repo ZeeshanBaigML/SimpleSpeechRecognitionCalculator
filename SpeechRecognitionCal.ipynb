import speech_recognition as sr
# Define math operations
def add(x, y):
    return x + y

def subtract(x, y):
    return x - y

def multiply(x, y):
    return x * y

def divide(x, y):
    return x / y

# Map recognized commands to math functions
math_functions = {
    "add": add,
    "subtract": subtract,
    "multiply": multiply,
    "divide": divide
}

r = sr.Recognizer()
my_mic = sr.Microphone(device_index=3) #my device index is 1, you have to put your device index

while(1):
    with my_mic as source:
        print("""Say now!!!!\n
              The command should be in the format of add 2 and 4 or multiply 5 and 6:\n
              say STOP to stop the program:""")
        audio = r.listen(source,timeout=5, phrase_time_limit=5)

    try:
        Text = r.recognize_google(audio)
        print("You said: " + r.recognize_google(audio))
    except sr.UnknownValueError:
        print("Google Speech Recognition could not understand audio")
    except sr.RequestError as e:
        print(f"Could not request results from Google Speech Recognition service; {e}")
        
    parts = Text.split()
    if parts[0] == "stop":
        break
    if len(parts) != 4 or parts[0] not in math_functions.keys():
        print("Sorry, I didn't understand that. Please try again.")
    else:
        operation = parts[0]
        x = float(parts[1])
        y = float(parts[3])
        result = math_functions[operation](x, y)# Perform math operation and print result
        print("Result:", result)                                            
        
        



