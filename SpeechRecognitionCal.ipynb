{
  "cells": [
    {
      "cell_type": "code",
      "execution_count": 1,
      "metadata": {
        "colab": {
          "base_uri": "https://localhost:8080/"
        },
        "id": "hDnYw-dfd6bl",
        "outputId": "bef87739-8158-444b-8529-ca66d2816730"
      },
      "outputs": [
        {
          "name": "stdout",
          "output_type": "stream",
          "text": [
            "Requirement already satisfied: SpeechRecognition in c:\\users\\zeeshan.baig\\onedrive - the academy of interactive entertainment ltd\\documents\\python scripts\\.venv\\lib\\site-packages (3.10.0)\n",
            "Requirement already satisfied: requests>=2.26.0 in c:\\users\\zeeshan.baig\\onedrive - the academy of interactive entertainment ltd\\documents\\python scripts\\.venv\\lib\\site-packages (from SpeechRecognition) (2.28.2)\n",
            "Requirement already satisfied: charset-normalizer<4,>=2 in c:\\users\\zeeshan.baig\\onedrive - the academy of interactive entertainment ltd\\documents\\python scripts\\.venv\\lib\\site-packages (from requests>=2.26.0->SpeechRecognition) (3.1.0)\n",
            "Requirement already satisfied: idna<4,>=2.5 in c:\\users\\zeeshan.baig\\onedrive - the academy of interactive entertainment ltd\\documents\\python scripts\\.venv\\lib\\site-packages (from requests>=2.26.0->SpeechRecognition) (3.4)\n",
            "Requirement already satisfied: urllib3<1.27,>=1.21.1 in c:\\users\\zeeshan.baig\\onedrive - the academy of interactive entertainment ltd\\documents\\python scripts\\.venv\\lib\\site-packages (from requests>=2.26.0->SpeechRecognition) (1.26.15)\n",
            "Requirement already satisfied: certifi>=2017.4.17 in c:\\users\\zeeshan.baig\\onedrive - the academy of interactive entertainment ltd\\documents\\python scripts\\.venv\\lib\\site-packages (from requests>=2.26.0->SpeechRecognition) (2022.12.7)\n",
            "Requirement already satisfied: pyaudio in c:\\users\\zeeshan.baig\\onedrive - the academy of interactive entertainment ltd\\documents\\python scripts\\.venv\\lib\\site-packages (0.2.13)\n"
          ]
        }
      ],
      "source": [
        "!pip install SpeechRecognition\n",
        "!pip install pyaudio"
      ]
    },
    {
      "cell_type": "code",
      "execution_count": 3,
      "metadata": {
        "colab": {
          "base_uri": "https://localhost:8080/",
          "height": 432
        },
        "id": "aWDX2czhcRca",
        "outputId": "afde21f7-7369-4782-c77a-fc2f078c7245"
      },
      "outputs": [
        {
          "name": "stdout",
          "output_type": "stream",
          "text": [
            "Say now!!!!\n",
            "\n",
            "              The command should be in the format of add 2 and 4 or multiply 5 and 6:\n",
            "\n",
            "              say STOP to stop the program:\n",
            "You said: stop\n"
          ]
        }
      ],
      "source": [
        "import speech_recognition as sr\n",
        "# Define math operations\n",
        "def add(x, y):\n",
        "    return x + y\n",
        "\n",
        "def subtract(x, y):\n",
        "    return x - y\n",
        "\n",
        "def multiply(x, y):\n",
        "    return x * y\n",
        "\n",
        "def divide(x, y):\n",
        "    return x / y\n",
        "\n",
        "# Map recognized commands to math functions\n",
        "math_functions = {\n",
        "    \"add\": add,\n",
        "    \"subtract\": subtract,\n",
        "    \"multiply\": multiply,\n",
        "    \"divide\": divide\n",
        "}\n",
        "\n",
        "r = sr.Recognizer()\n",
        "my_mic = sr.Microphone(device_index=3) #my device index is 1, you have to put your device index\n",
        "\n",
        "while(1):\n",
        "    with my_mic as source:\n",
        "        print(\"\"\"Say now!!!!\\n\n",
        "              The command should be in the format of add 2 and 4 or multiply 5 and 6:\\n\n",
        "              say STOP to stop the program:\"\"\")\n",
        "        audio = r.listen(source,timeout=5, phrase_time_limit=5)\n",
        "\n",
        "    try:\n",
        "        Text = r.recognize_google(audio)\n",
        "        print(\"You said: \" + r.recognize_google(audio))\n",
        "    except sr.UnknownValueError:\n",
        "        print(\"Google Speech Recognition could not understand audio\")\n",
        "    except sr.RequestError as e:\n",
        "        print(f\"Could not request results from Google Speech Recognition service; {e}\")\n",
        "        \n",
        "    parts = Text.split()\n",
        "    if parts[0] == \"stop\":\n",
        "        break\n",
        "    if len(parts) != 4 or parts[0] not in math_functions.keys():\n",
        "        print(\"Sorry, I didn't understand that. Please try again.\")\n",
        "    else:\n",
        "        operation = parts[0]\n",
        "        x = float(parts[1])\n",
        "        y = float(parts[3])\n",
        "        result = math_functions[operation](x, y)# Perform math operation and print result\n",
        "        print(\"Result:\", result)                                            \n",
        "        \n",
        "        \n",
        "\n",
        "\n",
        "\n"
      ]
    }
  ],
  "metadata": {
    "colab": {
      "provenance": []
    },
    "kernelspec": {
      "display_name": "Python 3",
      "name": "python3"
    },
    "language_info": {
      "codemirror_mode": {
        "name": "ipython",
        "version": 3
      },
      "file_extension": ".py",
      "mimetype": "text/x-python",
      "name": "python",
      "nbconvert_exporter": "python",
      "pygments_lexer": "ipython3",
      "version": "3.9.7"
    }
  },
  "nbformat": 4,
  "nbformat_minor": 0
}
